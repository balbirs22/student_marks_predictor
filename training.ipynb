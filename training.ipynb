{
 "cells": [
  {
   "cell_type": "code",
   "execution_count": 1,
   "metadata": {},
   "outputs": [],
   "source": [
    "import numpy as np\n",
    "import pandas as pd\n",
    "import matplotlib.pyplot as plt\n",
    "import seaborn as sns\n",
    "from sklearn.model_selection import train_test_split\n",
    "from sklearn.linear_model import LinearRegression\n",
    "from sklearn.metrics import mean_squared_error, r2_score\n",
    "import logging"
   ]
  },
  {
   "cell_type": "code",
   "execution_count": 2,
   "metadata": {},
   "outputs": [
    {
     "name": "stdout",
     "output_type": "stream",
     "text": [
      "   number_courses  time_study   Marks\n",
      "0               3       4.508  19.202\n",
      "1               4       0.096   7.734\n",
      "2               4       3.133  13.811\n",
      "3               6       7.909  53.018\n",
      "4               8       7.811  55.299\n"
     ]
    }
   ],
   "source": [
    "data=pd.read_csv('Student_Marks.csv')\n",
    "print(data.head())"
   ]
  },
  {
   "cell_type": "code",
   "execution_count": 3,
   "metadata": {},
   "outputs": [
    {
     "name": "stdout",
     "output_type": "stream",
     "text": [
      "0\n",
      "0\n",
      "0\n"
     ]
    }
   ],
   "source": [
    "print(data['number_courses'].isna().sum())\n",
    "print(data['time_study'].isna().sum())\n",
    "print(data['Marks'].isna().sum())"
   ]
  },
  {
   "cell_type": "code",
   "execution_count": 4,
   "metadata": {},
   "outputs": [
    {
     "data": {
      "text/plain": [
       "<Axes: xlabel='number_courses'>"
      ]
     },
     "execution_count": 4,
     "metadata": {},
     "output_type": "execute_result"
    },
    {
     "data": {
      "image/png": "[encoded data removed]",
      "text/plain": [
       "<Figure size 640x480 with 1 Axes>"
      ]
     },
     "metadata": {},
     "output_type": "display_data"
    }
   ],
   "source": [
    "sns.boxplot(x=data['number_courses'])"
   ]
  },
  {
   "cell_type": "code",
   "execution_count": 5,
   "metadata": {},
   "outputs": [
    {
     "data": {
      "text/plain": [
       "<Axes: xlabel='time_study'>"
      ]
     },
     "execution_count": 5,
     "metadata": {},
     "output_type": "execute_result"
    },
    {
     "data": {
      "image/png": "[encoded data removed]",
      "text/plain": [
       "<Figure size 640x480 with 1 Axes>"
      ]
     },
     "metadata": {},
     "output_type": "display_data"
    }
   ],
   "source": [
    "sns.boxplot(x=data['time_study'])"
   ]
  },
  {
   "cell_type": "code",
   "execution_count": 6,
   "metadata": {},
   "outputs": [
    {
     "data": {
      "text/plain": [
       "<Axes: xlabel='Marks'>"
      ]
     },
     "execution_count": 6,
     "metadata": {},
     "output_type": "execute_result"
    },
    {
     "data": {
      "image/png": "[encoded data removed]",
      "text/plain": [
       "<Figure size 640x480 with 1 Axes>"
      ]
     },
     "metadata": {},
     "output_type": "display_data"
    }
   ],
   "source": [
    "sns.boxplot(x=data['Marks'])"
   ]
  },
  {
   "cell_type": "code",
   "execution_count": 7,
   "metadata": {},
   "outputs": [
    {
     "name": "stdout",
     "output_type": "stream",
     "text": [
      "Epoch 0: Cost 399.705575385, Theta: [0.2441769  0.05948849 0.13431252]\n",
      "Epoch 100: Cost 56.46514859336752, Theta: [15.5694024   3.07409721  8.28252883]\n",
      "Epoch 200: Cost 12.742975077794265, Theta: [21.17893057  3.57960465 11.09856009]\n",
      "Epoch 300: Cost 6.975849695983642, Theta: [23.2321993   3.55381456 12.11268595]\n",
      "Epoch 400: Cost 6.18896788322468, Theta: [23.98376207  3.46683435 12.49374903]\n",
      "Epoch 500: Cost 6.077778996349592, Theta: [24.25885834  3.40525906 12.64282973]\n",
      "Epoch 600: Cost 6.061459125830419, Theta: [24.35955248  3.37087203 12.70325432]\n",
      "Epoch 700: Cost 6.058961755649931, Theta: [24.39640979  3.3534095  12.72846441]\n",
      "Epoch 800: Cost 6.058562189448672, Theta: [24.40990075  3.34495915 12.73922008]\n",
      "Epoch 900: Cost 6.0584953175375515, Theta: [24.41483888  3.34098003 12.74388516]\n",
      "Final parameters: [24.41663586  3.33914903 12.74591921]\n"
     ]
    }
   ],
   "source": [
    "import numpy as np\n",
    "\n",
    "# Assuming data is a pandas DataFrame with columns 'number_courses', 'time_study', and 'Marks'\n",
    "X = data[['number_courses', 'time_study']].values  # Input features\n",
    "y = data['Marks'].values  # Output/target\n",
    "\n",
    "# Normalize features (optional but recommended for faster convergence)\n",
    "X_mean = np.mean(X, axis=0)\n",
    "X_std = np.std(X, axis=0)\n",
    "X = (X - X_mean) / X_std\n",
    "\n",
    "# Add a column of ones to X for the intercept term (theta_0)\n",
    "X = np.hstack([np.ones((X.shape[0], 1)), X])\n",
    "\n",
    "# Initialize parameters\n",
    "theta = np.zeros(X.shape[1])  # [theta_0, theta_1, theta_2]\n",
    "alpha = 0.01  # Learning rate\n",
    "epochs = 1000  # Number of iterations\n",
    "m = len(y)  # Number of data points\n",
    "\n",
    "# Gradient Descent\n",
    "for epoch in range(epochs):\n",
    "    # Hypothesis\n",
    "    h = X.dot(theta)  # h(x) = theta_0 * 1 + theta_1 * x_1 + theta_2 * x_2\n",
    "    \n",
    "    # Compute the gradients\n",
    "    gradient = (1/m) * X.T.dot(h - y)\n",
    "    \n",
    "    # Update parameters\n",
    "    theta -= alpha * gradient\n",
    "    \n",
    "    # Optional: Print the cost every 100 iterations for tracking\n",
    "    if epoch % 100 == 0:\n",
    "        cost = (1/(2*m)) * np.sum((h - y)**2)\n",
    "        print(f'Epoch {epoch}: Cost {cost}, Theta: {theta}')\n",
    "\n",
    "# Final parameters\n",
    "print(f'Final parameters: {theta}')\n"
   ]
  },
  {
   "cell_type": "code",
   "execution_count": 8,
   "metadata": {},
   "outputs": [
    {
     "name": "stderr",
     "output_type": "stream",
     "text": [
      "INFO:root:Training using scikit-learn's Linear Regression...\n",
      "INFO:root:Mean Squared Error (scikit-learn): 14.200726136374547\n",
      "INFO:root:R² Score (scikit-learn): 0.9459936100591213\n",
      "INFO:root:Training using custom Gradient Descent...\n",
      "INFO:root:Epoch 0: Cost 363.00711317500003\n",
      "INFO:root:Epoch 100: Cost 52.38238932911013\n",
      "INFO:root:Epoch 200: Cost 12.099666453599868\n",
      "INFO:root:Epoch 300: Cost 6.799356095917358\n",
      "INFO:root:Epoch 400: Cost 6.092102848412749\n",
      "INFO:root:Epoch 500: Cost 5.996407869637299\n",
      "INFO:root:Epoch 600: Cost 5.983275050001609\n",
      "INFO:root:Epoch 700: Cost 5.981445923088917\n",
      "INFO:root:Epoch 800: Cost 5.981187150347327\n",
      "INFO:root:Epoch 900: Cost 5.98114992797327\n",
      "INFO:root:Mean Squared Error (Gradient Descent): 14.20500401382804\n",
      "INFO:root:R² Score (Gradient Descent): 0.9459773409813534\n",
      "INFO:root:Final parameters (Gradient Descent): [23.31844327  3.34520128 12.18200903]\n",
      "INFO:root:Models saved: 'sklearn_model.pkl' and 'gradient_descent_model.pkl'\n"
     ]
    }
   ],
   "source": [
    "import numpy as np\n",
    "import pandas as pd\n",
    "from sklearn.model_selection import train_test_split\n",
    "from sklearn.linear_model import LinearRegression\n",
    "from sklearn.metrics import mean_squared_error, r2_score\n",
    "import logging\n",
    "import pickle  # Import pickle for saving the models\n",
    "\n",
    "# Set up logging to capture the model's training and evaluation progress\n",
    "logging.basicConfig(level=logging.INFO)\n",
    "\n",
    "# Assuming data is a pandas DataFrame with columns 'number_courses', 'time_study', and 'Marks'\n",
    "# Features and target\n",
    "X = data[['number_courses', 'time_study']].values\n",
    "y = data['Marks'].values\n",
    "\n",
    "# Split the data into training and testing sets\n",
    "X_train, X_test, y_train, y_test = train_test_split(X, y, test_size=0.2, random_state=42)\n",
    "\n",
    "# ---- Part 1: Training and Testing with scikit-learn ---- #\n",
    "\n",
    "logging.info(\"Training using scikit-learn's Linear Regression...\")\n",
    "\n",
    "# Initialize and train the Linear Regression model\n",
    "model_sklearn = LinearRegression()\n",
    "model_sklearn.fit(X_train, y_train)\n",
    "\n",
    "# Make predictions on the test set\n",
    "y_pred_sklearn = model_sklearn.predict(X_test)\n",
    "\n",
    "# Evaluate the scikit-learn model\n",
    "mse_sklearn = mean_squared_error(y_test, y_pred_sklearn)\n",
    "r2_sklearn = r2_score(y_test, y_pred_sklearn)\n",
    "\n",
    "logging.info(f\"Mean Squared Error (scikit-learn): {mse_sklearn}\")\n",
    "logging.info(f\"R² Score (scikit-learn): {r2_sklearn}\")\n",
    "\n",
    "# ---- Part 2: Training using Custom Gradient Descent ---- #\n",
    "\n",
    "# Normalize features (optional but recommended for faster convergence)\n",
    "X_mean = np.mean(X_train, axis=0)\n",
    "X_std = np.std(X_train, axis=0)\n",
    "X_train_norm = (X_train - X_mean) / X_std\n",
    "X_test_norm = (X_test - X_mean) / X_std\n",
    "\n",
    "# Add a column of ones to X for the intercept term (theta_0)\n",
    "X_train_norm = np.hstack([np.ones((X_train_norm.shape[0], 1)), X_train_norm])\n",
    "X_test_norm = np.hstack([np.ones((X_test_norm.shape[0], 1)), X_test_norm])\n",
    "\n",
    "# Initialize parameters\n",
    "theta = np.zeros(X_train_norm.shape[1])  # [theta_0, theta_1, theta_2]\n",
    "alpha = 0.01  # Learning rate\n",
    "epochs = 1000  # Number of iterations\n",
    "m = len(y_train)  # Number of data points\n",
    "\n",
    "# Gradient Descent\n",
    "logging.info(\"Training using custom Gradient Descent...\")\n",
    "\n",
    "for epoch in range(epochs):\n",
    "    # Hypothesis\n",
    "    h = X_train_norm.dot(theta)  # h(x) = theta_0 + theta_1 * x_1 + theta_2 * x_2\n",
    "    \n",
    "    # Compute the gradients\n",
    "    gradient = (1/m) * X_train_norm.T.dot(h - y_train)\n",
    "    \n",
    "    # Update parameters\n",
    "    theta -= alpha * gradient\n",
    "    \n",
    "    # Optional: Print the cost every 100 iterations for tracking\n",
    "    if epoch % 100 == 0:\n",
    "        cost = (1/(2*m)) * np.sum((h - y_train)**2)\n",
    "        logging.info(f'Epoch {epoch}: Cost {cost}')\n",
    "\n",
    "# Make predictions using the custom Gradient Descent model\n",
    "y_pred_gd = X_test_norm.dot(theta)\n",
    "\n",
    "# Evaluate the custom Gradient Descent model\n",
    "mse_gd = mean_squared_error(y_test, y_pred_gd)\n",
    "r2_gd = r2_score(y_test, y_pred_gd)\n",
    "\n",
    "logging.info(f\"Mean Squared Error (Gradient Descent): {mse_gd}\")\n",
    "logging.info(f\"R² Score (Gradient Descent): {r2_gd}\")\n",
    "logging.info(f\"Final parameters (Gradient Descent): {theta}\")\n",
    "\n",
    "# ---- Save the models using Pickle ---- #\n",
    "# Save the scikit-learn Linear Regression model\n",
    "with open(\"sklearn_model.pkl\", \"wb\") as file:\n",
    "    pickle.dump(model_sklearn, file)\n",
    "\n",
    "# Save the gradient descent model parameters (theta), normalization mean and std\n",
    "with open(\"gradient_descent_model.pkl\", \"wb\") as file:\n",
    "    pickle.dump({'theta': theta, 'X_mean': X_mean, 'X_std': X_std}, file)\n",
    "\n",
    "logging.info(\"Models saved: 'sklearn_model.pkl' and 'gradient_descent_model.pkl'\")\n"
   ]
  }
 ],
 "metadata": {
  "kernelspec": {
   "display_name": "Python 3",
   "language": "python",
   "name": "python3"
  },
  "language_info": {
   "codemirror_mode": {
    "name": "ipython",
    "version": 3
   },
   "file_extension": ".py",
   "mimetype": "text/x-python",
   "name": "python",
   "nbconvert_exporter": "python",
   "pygments_lexer": "ipython3",
   "version": "3.11.6"
  }
 },
 "nbformat": 4,
 "nbformat_minor": 2
}
